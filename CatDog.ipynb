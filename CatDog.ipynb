{
  "nbformat": 4,
  "nbformat_minor": 0,
  "metadata": {
    "colab": {
      "name": "CatDog.ipynb",
      "provenance": [],
      "mount_file_id": "1D39k1oRagO6j1Q35RRqbSuS2vbEjDubX",
      "authorship_tag": "ABX9TyMuNR6YeResJtYvn1MW2UmN",
      "include_colab_link": true
    },
    "kernelspec": {
      "name": "python3",
      "display_name": "Python 3"
    }
  },
  "cells": [
    {
      "cell_type": "markdown",
      "metadata": {
        "id": "view-in-github",
        "colab_type": "text"
      },
      "source": [
        "<a href=\"https://colab.research.google.com/github/aarpit1010/Basic-Img-Recgnz-Keras/blob/master/CatDog.ipynb\" target=\"_parent\"><img src=\"https://colab.research.google.com/assets/colab-badge.svg\" alt=\"Open In Colab\"/></a>"
      ]
    },
    {
      "cell_type": "code",
      "metadata": {
        "id": "EBT2x1QQk3TO",
        "colab_type": "code",
        "colab": {}
      },
      "source": [
        "import numpy as np\n",
        "import pandas as pd\n",
        "import matplotlib.pyplot as plt\n",
        "%matplotlib inline\n",
        "import keras\n",
        "\n",
        "from keras.models import Sequential\n",
        "from keras.layers import Convolution2D, MaxPooling2D, Flatten, Dense  \n",
        "\n",
        "import warnings\n",
        "warnings.filterwarnings('ignore')"
      ],
      "execution_count": 27,
      "outputs": []
    },
    {
      "cell_type": "code",
      "metadata": {
        "id": "fiuDDGZ9m6k-",
        "colab_type": "code",
        "colab": {}
      },
      "source": [
        "model = Sequential()\n",
        "\n",
        "model.add(Convolution2D(32, 3, 3, input_shape= (64, 64, 3), activation= 'relu' ))\n",
        "\n",
        "model.add(MaxPooling2D(pool_size=(2, 2)))\n",
        "model.add(Flatten())\n"
      ],
      "execution_count": 28,
      "outputs": []
    },
    {
      "cell_type": "code",
      "metadata": {
        "id": "9CNSFZuhn5rE",
        "colab_type": "code",
        "colab": {}
      },
      "source": [
        "model.add(Dense(output_dim= 128, activation= 'relu'))\n",
        "model.add(Dense(output_dim= 1, activation= 'sigmoid'))"
      ],
      "execution_count": 29,
      "outputs": []
    },
    {
      "cell_type": "code",
      "metadata": {
        "id": "mpN-sY1doN_P",
        "colab_type": "code",
        "colab": {}
      },
      "source": [
        "model.compile(optimizer= 'adam', loss= 'binary_crossentropy', metrics= ['accuracy'])"
      ],
      "execution_count": 30,
      "outputs": []
    },
    {
      "cell_type": "code",
      "metadata": {
        "id": "yPnAFIIdox45",
        "colab_type": "code",
        "colab": {}
      },
      "source": [
        "from keras.preprocessing.image import ImageDataGenerator"
      ],
      "execution_count": 31,
      "outputs": []
    },
    {
      "cell_type": "code",
      "metadata": {
        "id": "jIMkDEdXo6sX",
        "colab_type": "code",
        "colab": {}
      },
      "source": [
        "train_datagen = ImageDataGenerator(\n",
        "      rescale = 1./255,\n",
        "      shear_range= 0.2,\n",
        "      zoom_range= 0.2,\n",
        "      horizontal_flip= True\n",
        ")\n"
      ],
      "execution_count": 32,
      "outputs": []
    },
    {
      "cell_type": "code",
      "metadata": {
        "id": "30MKlYDupcPP",
        "colab_type": "code",
        "colab": {}
      },
      "source": [
        "test_datagen= ImageDataGenerator(\n",
        "      rescale= 1./255\n",
        ")"
      ],
      "execution_count": 33,
      "outputs": []
    },
    {
      "cell_type": "code",
      "metadata": {
        "id": "0ExwjKrxpkA4",
        "colab_type": "code",
        "colab": {
          "base_uri": "https://localhost:8080/",
          "height": 52
        },
        "outputId": "d6a9252a-0a63-4d09-eec1-bb7245dfd59f"
      },
      "source": [
        "train_set= train_datagen.flow_from_directory(\n",
        "      '/content/drive/My Drive/Colab Notebooks/Dataset/training_set',\n",
        "      target_size= (64,64),\n",
        "      batch_size= 32,\n",
        "      class_mode = 'binary'\n",
        ")\n",
        "\n",
        "test_set= test_datagen.flow_from_directory(\n",
        "      '/content/drive/My Drive/Colab Notebooks/Dataset/test_set',\n",
        "      target_size= (64,64),\n",
        "      batch_size= 32,\n",
        "      class_mode = 'binary'\n",
        ")"
      ],
      "execution_count": 35,
      "outputs": [
        {
          "output_type": "stream",
          "text": [
            "Found 5319 images belonging to 2 classes.\n",
            "Found 2032 images belonging to 2 classes.\n"
          ],
          "name": "stdout"
        }
      ]
    },
    {
      "cell_type": "code",
      "metadata": {
        "id": "W82qZsaEsDOg",
        "colab_type": "code",
        "colab": {
          "base_uri": "https://localhost:8080/",
          "height": 390
        },
        "outputId": "354dbaff-be14-4013-bf0b-c6143d2d94ca"
      },
      "source": [
        "from IPython.display import display\n",
        "from PIL import Image\n",
        "\n",
        "model.fit_generator(\n",
        "      train_set,\n",
        "      steps_per_epoch = 1000,\n",
        "      epochs= 10,\n",
        "      validation_data= test_set,\n",
        "      validation_steps= 100\n",
        ")\n",
        "\n",
        "from keras.preprocessing import image\n",
        "\n",
        "test_image= image.load_img('/content/drive/My Drive/Colab Notebooks/1.jpg', target_size= (64, 64))\n",
        "test_image= image.img_to_array(test_image)\n",
        "test_image= np.expand_dims(test_image, axis=0)\n",
        "\n",
        "res= model.predict(test_image)\n",
        "\n",
        "train_set.class_indices\n",
        "if res[0][0] >= 0.5: pred= 'Dog'\n",
        "else: pred= 'Cat'\n",
        "\n",
        "print(pred)"
      ],
      "execution_count": 37,
      "outputs": [
        {
          "output_type": "stream",
          "text": [
            "Epoch 1/10\n",
            "1000/1000 [==============================] - 290s 290ms/step - loss: 0.0913 - accuracy: 0.9662 - val_loss: 2.0857 - val_accuracy: 0.7026\n",
            "Epoch 2/10\n",
            "1000/1000 [==============================] - 297s 297ms/step - loss: 0.0778 - accuracy: 0.9711 - val_loss: 1.9909 - val_accuracy: 0.7033\n",
            "Epoch 3/10\n",
            "1000/1000 [==============================] - 302s 302ms/step - loss: 0.0736 - accuracy: 0.9733 - val_loss: 0.5515 - val_accuracy: 0.6633\n",
            "Epoch 4/10\n",
            "1000/1000 [==============================] - 293s 293ms/step - loss: 0.0634 - accuracy: 0.9779 - val_loss: 1.4926 - val_accuracy: 0.6985\n",
            "Epoch 5/10\n",
            "1000/1000 [==============================] - 295s 295ms/step - loss: 0.0618 - accuracy: 0.9777 - val_loss: 1.3030 - val_accuracy: 0.6815\n",
            "Epoch 6/10\n",
            "1000/1000 [==============================] - 291s 291ms/step - loss: 0.0591 - accuracy: 0.9793 - val_loss: 2.3675 - val_accuracy: 0.6967\n",
            "Epoch 7/10\n",
            "1000/1000 [==============================] - 290s 290ms/step - loss: 0.0522 - accuracy: 0.9818 - val_loss: 2.4103 - val_accuracy: 0.6844\n",
            "Epoch 8/10\n",
            "1000/1000 [==============================] - 290s 290ms/step - loss: 0.0516 - accuracy: 0.9820 - val_loss: 2.5803 - val_accuracy: 0.6812\n",
            "Epoch 9/10\n",
            "1000/1000 [==============================] - 290s 290ms/step - loss: 0.0498 - accuracy: 0.9824 - val_loss: 3.9323 - val_accuracy: 0.6834\n",
            "Epoch 10/10\n",
            "1000/1000 [==============================] - 289s 289ms/step - loss: 0.0363 - accuracy: 0.9879 - val_loss: 1.3494 - val_accuracy: 0.6941\n",
            "Dog\n"
          ],
          "name": "stdout"
        }
      ]
    }
  ]
}